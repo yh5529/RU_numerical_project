{
 "cells": [
  {
   "cell_type": "code",
   "execution_count": 1,
   "metadata": {},
   "outputs": [],
   "source": [
    "import numpy as np\n",
    "import pandas as pd\n",
    "import math as m\n",
    "from scipy.stats import norm\n",
    "from bayes_opt import BayesianOptimization\n",
    "import matplotlib.pyplot as plt\n",
    "from hyperopt import fmin, tpe, hp"
   ]
  },
  {
   "cell_type": "code",
   "execution_count": 2,
   "metadata": {},
   "outputs": [],
   "source": [
    "np.random.seed(1)"
   ]
  },
  {
   "cell_type": "code",
   "execution_count": 3,
   "metadata": {},
   "outputs": [],
   "source": [
    "K = np.linspace(75,125,11).tolist()"
   ]
  },
  {
   "cell_type": "code",
   "execution_count": 4,
   "metadata": {},
   "outputs": [
    {
     "name": "stdout",
     "output_type": "stream",
     "text": [
      "[27.672013904280096, 23.2941234781173, 19.089351165496673, 15.125020284002431, 11.47222439678089, 8.224285791701883, 5.512507596524216, 3.4427204504095785, 2.03880203922076, 1.1776220820515564, 0.6740096344385075]\n"
     ]
    }
   ],
   "source": [
    "# Heston Model\n",
    "def heston_model(S,T,r,steps,Npaths,k,theta,v_0,rho,xi):\n",
    "    dt = T/steps\n",
    "    stock = np.zeros((Npaths,steps))\n",
    "    vol = np.zeros((Npaths,steps))\n",
    "    S_t = S\n",
    "    v_t = v_0\n",
    "    for i in range(steps):\n",
    "        W = np.random.multivariate_normal(np.array([0,0]),cov = np.array([[1,rho],[rho,1]]),\n",
    "                                          size = Npaths)*np.sqrt(dt)\n",
    "        S_t = S_t*(np.exp((r-v_t*0.5)*dt +np.sqrt(v_t)*W[:,0]))\n",
    "        v_t = np.maximum(v_t+k*(theta-v_t)*dt + xi*np.sqrt(v_t)*W[:,1],0)\n",
    "        stock[:,i] = S_t\n",
    "        vol[:,i] = v_t\n",
    "\n",
    "    return stock, vol\n",
    "\n",
    "s , v = heston_model(100,1,0.02,252,10000,1,0.04,0.04,-0.6,0.5)\n",
    "\n",
    "\n",
    "P = np.zeros((10000,11))\n",
    "for i in range(0,11):\n",
    "    P[:,i] = np.maximum(s[:,-1] - K[i],0)\n",
    "\n",
    "P = np.mean(P,axis = 0)\n",
    "call_price = P*np.exp(-0.02*1)\n",
    "call_price = call_price.tolist()\n",
    "print(call_price)"
   ]
  },
  {
   "cell_type": "code",
   "execution_count": 5,
   "metadata": {},
   "outputs": [],
   "source": [
    "#BS Model\n",
    "def bs_call(S, K, T, r, sigma):\n",
    "    d1 = (np.log(S/K) + (r + sigma**2/2)*T) / (sigma*np.sqrt(T))\n",
    "    d2 = d1 - sigma * np.sqrt(T)\n",
    "    return S * norm.cdf(d1) - K * np.exp(-r*T)* norm.cdf(d2)"
   ]
  },
  {
   "cell_type": "code",
   "execution_count": 6,
   "metadata": {},
   "outputs": [
    {
     "data": {
      "text/plain": [
       "26.48509950199336"
      ]
     },
     "execution_count": 6,
     "metadata": {},
     "output_type": "execute_result"
    }
   ],
   "source": [
    "bs_call(100,75,1,0.02,0.04)"
   ]
  },
  {
   "cell_type": "code",
   "execution_count": 7,
   "metadata": {},
   "outputs": [],
   "source": [
    "bs_price = []\n",
    "for i in range(len(K)):\n",
    "    p = bs_call(100,K[i],1,0.02,0.04)\n",
    "    bs_price.append(p)"
   ]
  },
  {
   "cell_type": "code",
   "execution_count": 8,
   "metadata": {},
   "outputs": [
    {
     "data": {
      "text/plain": [
       "[26.48509950199336,\n",
       " 21.58410613579582,\n",
       " 16.68311462751595,\n",
       " 11.783006505548528,\n",
       " 6.938718311429511,\n",
       " 2.763366574892075,\n",
       " 0.5605898927581165,\n",
       " 0.04800464803855142,\n",
       " 0.0016571154227466578,\n",
       " 2.3924901535577348e-05,\n",
       " 1.5483504863550665e-07]"
      ]
     },
     "execution_count": 8,
     "metadata": {},
     "output_type": "execute_result"
    }
   ],
   "source": [
    "bs_price"
   ]
  },
  {
   "cell_type": "code",
   "execution_count": 9,
   "metadata": {},
   "outputs": [],
   "source": [
    "def MSE(true,predict):\n",
    "    mse = np.square(np.subtract(true,predict)).mean()\n",
    "    return mse"
   ]
  },
  {
   "cell_type": "code",
   "execution_count": 23,
   "metadata": {},
   "outputs": [],
   "source": [
    "# heston_model(S,T,r,steps, Npaths,k,theta,v_0,rho,xi)\n",
    "def tpe_opt(bs_price,S,K,T,r,steps, Npaths):\n",
    "    # K is a list of strike price\n",
    "    def objective(parameters):\n",
    "        s,v = heston_model(S,T,r,steps,Npaths,**parameters)\n",
    "        P = np.zeros((10000,len(K)))\n",
    "        for i in range(len(K)):\n",
    "            P[:,i] = np.maximum(s[:,-1] - K[i],0)\n",
    "\n",
    "        P = np.mean(P,axis = 0)\n",
    "        call_price = P*np.exp(-0.02*1)\n",
    "        call_price = call_price.tolist()\n",
    "        mse = MSE(bs_price,call_price)\n",
    "        return mse\n",
    "    space = {\n",
    "        'k': hp.uniform('k',0,1),\n",
    "        'theta': hp.uniform('theta',0,1),\n",
    "        'v_0': hp.uniform('v_0',0,1),\n",
    "        'rho': hp.uniform('rho',0,1),\n",
    "        'xi': hp.uniform('xi',0,5)\n",
    "    }\n",
    "    best = fmin(\n",
    "        fn = objective,\n",
    "        space = space,\n",
    "        algo = tpe.suggest,\n",
    "        max_evals = 100\n",
    "        )\n",
    "    print(best)"
   ]
  },
  {
   "cell_type": "code",
   "execution_count": 24,
   "metadata": {
    "scrolled": true
   },
   "outputs": [
    {
     "name": "stdout",
     "output_type": "stream",
     "text": [
      "100%|██████████| 100/100 [00:22<00:00,  4.36trial/s, best loss: 0.07310833530410181]\n",
      "{'k': 0.004327294939036087, 'rho': 0.21606458209879745, 'theta': 0.700783077301618, 'v_0': 0.001795857869096128, 'xi': 0.13734144262047382}\n"
     ]
    }
   ],
   "source": [
    "tpe_opt(bs_price,100,K,1,0.02,252,10000)"
   ]
  },
  {
   "cell_type": "code",
   "execution_count": 12,
   "metadata": {},
   "outputs": [],
   "source": [
    "para = {'k': 0.004327294939036087, 'rho': 0.21606458209879745, 'theta': 0.700783077301618, 'v_0': 0.001795857869096128, 'xi': 0.13734144262047382}"
   ]
  },
  {
   "cell_type": "code",
   "execution_count": 25,
   "metadata": {},
   "outputs": [
    {
     "name": "stdout",
     "output_type": "stream",
     "text": [
      "[26.560786765624123, 21.65979339909036, 16.7588000325566, 11.858761092752852, 7.006283158487716, 2.7884353942960853, 0.5630610300582559, 0.05345228589764956, 0.0017395321809740175, 0.0, 0.0]\n"
     ]
    }
   ],
   "source": [
    "s,v = heston_model(100,1,0.02,252,10000,**para)\n",
    "P = np.zeros((10000,len(K)))\n",
    "for i in range(len(K)):\n",
    "    P[:,i] = np.maximum(s[:,-1] - K[i],0)\n",
    "\n",
    "P = np.mean(P,axis = 0)\n",
    "tpe_call_price = P*np.exp(-0.02*1)\n",
    "tpe_call_price = tpe_call_price.tolist()\n",
    "print(tpe_call_price)"
   ]
  },
  {
   "cell_type": "code",
   "execution_count": 26,
   "metadata": {},
   "outputs": [],
   "source": [
    "def bay_opt(bs_price,S,K,T,r,steps, Npaths):\n",
    "    # K is a list of strike price\n",
    "    def objective(k,theta,v_0,rho,xi):\n",
    "        s,v = heston_model(S,T,r,steps, Npaths,k,theta,v_0,rho,xi)\n",
    "        P = np.zeros((10000,len(K)))\n",
    "        for i in range(len(K)):\n",
    "            P[:,i] = np.maximum(s[:,-1] - K[i],0)\n",
    "\n",
    "        P = np.mean(P,axis = 0)\n",
    "        call_price = P*np.exp(-0.02*1)\n",
    "        call_price = call_price.tolist()\n",
    "        mse = MSE(bs_price,call_price)\n",
    "        return -mse\n",
    "    pbounds = {\n",
    "        'k': (0,1),\n",
    "        'theta': (0,1),\n",
    "        'v_0': (0,1),\n",
    "        'rho': (0,1),\n",
    "        'xi': (0,5)\n",
    "    }\n",
    "    optimizer = BayesianOptimization(\n",
    "        f = objective,\n",
    "        pbounds = pbounds,\n",
    "        random_state=1111,\n",
    "        )\n",
    "    optimizer.maximize(init_points=20, n_iter=100)\n",
    "    print(optimizer.max)"
   ]
  },
  {
   "cell_type": "code",
   "execution_count": 15,
   "metadata": {
    "scrolled": true
   },
   "outputs": [],
   "source": [
    "#bay_opt(bs_price,100,K,1,0.02,252,10000)"
   ]
  },
  {
   "cell_type": "code",
   "execution_count": 16,
   "metadata": {},
   "outputs": [],
   "source": [
    "para2 = {'k': 0.0, 'rho': 0.5608596672058875, 'theta': 0.2660447615314618, 'v_0': 0.0, 'xi': 3.0971193732685998}"
   ]
  },
  {
   "cell_type": "code",
   "execution_count": 17,
   "metadata": {},
   "outputs": [
    {
     "name": "stdout",
     "output_type": "stream",
     "text": [
      "[26.485099501988092, 21.58410613545463, 16.683112768921358, 11.782119402388503, 6.881126035856967, 1.9801326693227295, 0.0, 0.0, 0.0, 0.0, 0.0]\n"
     ]
    }
   ],
   "source": [
    "s2,v2 = heston_model(100,1,0.02,252,10000,**para2)\n",
    "P2 = np.zeros((10000,len(K)))\n",
    "for i in range(len(K)):\n",
    "    P2[:,i] = np.maximum(s2[:,-1] - K[i],0)\n",
    "\n",
    "P2 = np.mean(P2,axis = 0)\n",
    "bayes_call_price = P2*np.exp(-0.02*1)\n",
    "bayes_call_price = bayes_call_price.tolist()\n",
    "print(bayes_call_price)"
   ]
  },
  {
   "cell_type": "code",
   "execution_count": 27,
   "metadata": {},
   "outputs": [
    {
     "data": {
      "image/png": "[encoded data removed]",
      "text/plain": [
       "<Figure size 720x720 with 1 Axes>"
      ]
     },
     "metadata": {
      "needs_background": "light"
     },
     "output_type": "display_data"
    }
   ],
   "source": [
    "plt.figure(figsize=(10,10))\n",
    "plt.plot(call_price,'s-',label='initial')\n",
    "plt.plot(tpe_call_price,'*-',label='tpe')\n",
    "plt.plot(tpe_call_price,'o-',label='bayes')\n",
    "plt.plot(bs_price,'P-',label='bs')\n",
    "plt.legend()\n",
    "plt.title('Call Option Price')\n",
    "plt.show()"
   ]
  },
  {
   "cell_type": "code",
   "execution_count": 28,
   "metadata": {},
   "outputs": [],
   "source": [
    "def DIFF(real,predict):\n",
    "    diff = []\n",
    "    for i in range(len(real)):\n",
    "        d = abs(real[i] - predict[i])\n",
    "        diff.append(d)\n",
    "    return diff"
   ]
  },
  {
   "cell_type": "code",
   "execution_count": 29,
   "metadata": {},
   "outputs": [
    {
     "data": {
      "image/png": "[encoded data removed]",
      "text/plain": [
       "<Figure size 720x720 with 1 Axes>"
      ]
     },
     "metadata": {
      "needs_background": "light"
     },
     "output_type": "display_data"
    }
   ],
   "source": [
    "plt.figure(figsize=(10,10))\n",
    "plt.plot(DIFF(bs_price,call_price),'s-',label='initial')\n",
    "plt.plot(DIFF(bs_price,tpe_call_price),'*-',label='tpe')\n",
    "plt.plot(DIFF(bs_price,bayes_call_price),'o-',label='bayes')\n",
    "plt.legend()\n",
    "plt.title('price error')\n",
    "plt.show()"
   ]
  }
 ],
 "metadata": {
  "kernelspec": {
   "display_name": "Python 3",
   "language": "python",
   "name": "python3"
  },
  "language_info": {
   "codemirror_mode": {
    "name": "ipython",
    "version": 3
   },
   "file_extension": ".py",
   "mimetype": "text/x-python",
   "name": "python",
   "nbconvert_exporter": "python",
   "pygments_lexer": "ipython3",
   "version": "3.8.5"
  }
 },
 "nbformat": 4,
 "nbformat_minor": 4
}
