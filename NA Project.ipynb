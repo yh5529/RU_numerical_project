{
 "cells": [
  {
   "cell_type": "code",
   "execution_count": 1,
   "metadata": {},
   "outputs": [],
   "source": [
    "import numpy as np\n",
    "import pandas as pd\n",
    "import math as m\n",
    "from scipy.stats import norm"
   ]
  },
  {
   "cell_type": "code",
   "execution_count": 2,
   "metadata": {},
   "outputs": [],
   "source": [
    "np.random.seed(1)"
   ]
  },
  {
   "cell_type": "code",
   "execution_count": 3,
   "metadata": {},
   "outputs": [],
   "source": [
    "K = np.linspace(75,125,11).tolist()"
   ]
  },
  {
   "cell_type": "code",
   "execution_count": 4,
   "metadata": {},
   "outputs": [
    {
     "name": "stdout",
     "output_type": "stream",
     "text": [
      "[27.672013904280096, 23.2941234781173, 19.089351165496673, 15.125020284002431, 11.47222439678089, 8.224285791701883, 5.512507596524216, 3.4427204504095785, 2.03880203922076, 1.1776220820515564, 0.6740096344385075]\n"
     ]
    }
   ],
   "source": [
    "# Heston Model\n",
    "def heston_model(S,T,r,steps,Npaths,k,theta,v_0,rho,xi):\n",
    "    dt = T/steps\n",
    "    stock = np.zeros((Npaths,steps))\n",
    "    vol = np.zeros((Npaths,steps))\n",
    "    S_t = S\n",
    "    v_t = v_0\n",
    "    for i in range(steps):\n",
    "        W = np.random.multivariate_normal(np.array([0,0]),cov = np.array([[1,rho],[rho,1]]),\n",
    "                                          size = Npaths)*np.sqrt(dt)\n",
    "        S_t = S_t*(np.exp((r-v_t*0.5)*dt +np.sqrt(v_t)*W[:,0]))\n",
    "        v_t = np.maximum(v_t+k*(theta-v_t)*dt + xi*np.sqrt(v_t)*W[:,1],0)\n",
    "        stock[:,i] = S_t\n",
    "        vol[:,i] = v_t\n",
    "\n",
    "    return stock, vol\n",
    "\n",
    "s , v = heston_model(100,1,0.02,252,10000,1,0.04,0.04,-0.6,0.5)\n",
    "\n",
    "\n",
    "P = np.zeros((10000,11))\n",
    "for i in range(0,11):\n",
    "    P[:,i] = np.maximum(s[:,-1] - K[i],0)\n",
    "\n",
    "P = np.mean(P,axis = 0)\n",
    "call_price = P*np.exp(-0.02*1)\n",
    "call_price = call_price.tolist()\n",
    "print(call_price)"
   ]
  },
  {
   "cell_type": "code",
   "execution_count": 5,
   "metadata": {},
   "outputs": [],
   "source": [
    "#BS Model\n",
    "def bs_call(S, K, T, r, sigma):\n",
    "    d1 = (np.log(S/K) + (r + sigma**2/2)*T) / (sigma*np.sqrt(T))\n",
    "    d2 = d1 - sigma * np.sqrt(T)\n",
    "    return S * norm.cdf(d1) - K * np.exp(-r*T)* norm.cdf(d2)"
   ]
  },
  {
   "cell_type": "code",
   "execution_count": 6,
   "metadata": {},
   "outputs": [
    {
     "data": {
      "text/plain": [
       "26.48509950199336"
      ]
     },
     "execution_count": 6,
     "metadata": {},
     "output_type": "execute_result"
    }
   ],
   "source": [
    "bs_call(100,75,1,0.02,0.04)"
   ]
  },
  {
   "cell_type": "code",
   "execution_count": 7,
   "metadata": {},
   "outputs": [],
   "source": [
    "bs_price = []\n",
    "for i in range(len(K)):\n",
    "    p = bs_call(100,K[i],1,0.02,0.04)\n",
    "    bs_price.append(p)"
   ]
  },
  {
   "cell_type": "code",
   "execution_count": 8,
   "metadata": {},
   "outputs": [
    {
     "data": {
      "text/plain": [
       "[26.48509950199336,\n",
       " 21.58410613579582,\n",
       " 16.68311462751595,\n",
       " 11.783006505548528,\n",
       " 6.938718311429511,\n",
       " 2.763366574892075,\n",
       " 0.5605898927581165,\n",
       " 0.04800464803855142,\n",
       " 0.0016571154227466578,\n",
       " 2.3924901535577348e-05,\n",
       " 1.5483504863550665e-07]"
      ]
     },
     "execution_count": 8,
     "metadata": {},
     "output_type": "execute_result"
    }
   ],
   "source": [
    "bs_price"
   ]
  },
  {
   "cell_type": "code",
   "execution_count": 9,
   "metadata": {},
   "outputs": [
    {
     "data": {
      "text/plain": [
       "10.336621960230897"
      ]
     },
     "execution_count": 9,
     "metadata": {},
     "output_type": "execute_result"
    }
   ],
   "source": [
    "mse = np.square(np.subtract(bs_price,call_price)).mean()\n",
    "mse"
   ]
  },
  {
   "cell_type": "code",
   "execution_count": 10,
   "metadata": {},
   "outputs": [],
   "source": [
    "def MSE(true,predict):\n",
    "    mse = np.square(np.subtract(true,predict)).mean()\n",
    "    return mse"
   ]
  },
  {
   "cell_type": "code",
   "execution_count": null,
   "metadata": {},
   "outputs": [],
   "source": []
  },
  {
   "cell_type": "code",
   "execution_count": 11,
   "metadata": {},
   "outputs": [],
   "source": [
    "from hyperopt import fmin, tpe, hp"
   ]
  },
  {
   "cell_type": "code",
   "execution_count": 16,
   "metadata": {},
   "outputs": [],
   "source": [
    "# heston_model(S,T,r,steps, Npaths,k,theta,v_0,rho,xi)\n",
    "def tpe_opt(bs_price,S,K,T,r,steps, Npaths):\n",
    "    # K is a list of strike price\n",
    "    def objective(parameters):\n",
    "        s,v = heston_model(S,T,r,steps, Npaths,**parameters)\n",
    "        P = np.zeros((10000,len(K)))\n",
    "        for i in range(len(K)):\n",
    "            P[:,i] = np.maximum(s[:,-1] - K[i],0)\n",
    "\n",
    "        P = np.mean(P,axis = 0)\n",
    "        call_price = P*np.exp(-0.02*1)\n",
    "        call_price = call_price.tolist()\n",
    "        mse = MSE(bs_price,call_price)\n",
    "        return mse\n",
    "    space = {\n",
    "        'k': hp.uniform('k',0,1),\n",
    "        'theta': hp.uniform('theta',0,1),\n",
    "        'v_0': hp.uniform('v_0',0,1),\n",
    "        'rho': hp.uniform('rho',0,1),\n",
    "        'xi': hp.uniform('xi',0,5)\n",
    "    }\n",
    "    best = fmin(\n",
    "        fn = objective,\n",
    "        space = space,\n",
    "        algo = tpe.suggest,\n",
    "        max_evals = 1500\n",
    "        )\n",
    "    print(best)"
   ]
  },
  {
   "cell_type": "code",
   "execution_count": 17,
   "metadata": {},
   "outputs": [
    {
     "name": "stdout",
     "output_type": "stream",
     "text": [
      "100%|██████████| 1500/1500 [05:54<00:00,  4.23trial/s, best loss: 0.00043739168888317666]\n",
      "{'k': 0.01841122031990712, 'rho': 0.047541060031656424, 'theta': 0.1423203221078187, 'v_0': 0.0002518113041690734, 'xi': 0.005854977779560278}\n"
     ]
    }
   ],
   "source": [
    "tpe_opt(bs_price,100,K,1,0.02,252,10000)"
   ]
  },
  {
   "cell_type": "code",
   "execution_count": 18,
   "metadata": {},
   "outputs": [],
   "source": [
    "para = {'k': 0.01841122031990712, 'rho': 0.047541060031656424, 'theta': 0.1423203221078187, 'v_0': 0.0002518113041690734, 'xi': 0.005854977779560278}"
   ]
  },
  {
   "cell_type": "code",
   "execution_count": 19,
   "metadata": {},
   "outputs": [
    {
     "name": "stdout",
     "output_type": "stream",
     "text": [
      "[26.44898412110068, 21.54799075456685, 16.646997388033135, 11.746517992987824, 6.895395042713184, 2.707117409847389, 0.5310852925153086, 0.05084967514419063, 0.0018322746159688465, 0.0, 0.0]\n"
     ]
    }
   ],
   "source": [
    "s,v = heston_model(100,1,0.02,252,10000,**para)\n",
    "P = np.zeros((10000,len(K)))\n",
    "for i in range(len(K)):\n",
    "    P[:,i] = np.maximum(s[:,-1] - K[i],0)\n",
    "\n",
    "P = np.mean(P,axis = 0)\n",
    "opt_call_price = P*np.exp(-0.02*1)\n",
    "opt_call_price = opt_call_price.tolist()\n",
    "print(opt_call_price)"
   ]
  },
  {
   "cell_type": "code",
   "execution_count": 25,
   "metadata": {},
   "outputs": [
    {
     "name": "stdout",
     "output_type": "stream",
     "text": [
      "[26.48509950199336, 21.58410613579582, 16.68311462751595, 11.783006505548528, 6.938718311429511, 2.763366574892075, 0.5605898927581165, 0.04800464803855142, 0.0016571154227466578, 2.3924901535577348e-05, 1.5483504863550665e-07]\n"
     ]
    }
   ],
   "source": [
    "print(bs_price)"
   ]
  },
  {
   "cell_type": "code",
   "execution_count": 20,
   "metadata": {},
   "outputs": [],
   "source": [
    "import matplotlib.pyplot as plt"
   ]
  },
  {
   "cell_type": "code",
   "execution_count": 31,
   "metadata": {},
   "outputs": [
    {
     "data": {
      "image/png": "[encoded data removed]",
      "text/plain": [
       "<Figure size 720x720 with 1 Axes>"
      ]
     },
     "metadata": {
      "needs_background": "light"
     },
     "output_type": "display_data"
    }
   ],
   "source": [
    "plt.figure(figsize=(10,10))\n",
    "plt.plot(call_price,'s-',label='initial')\n",
    "plt.plot(opt_call_price,'*-',label='opt')\n",
    "plt.plot(bs_price,'P-',label='bs')\n",
    "plt.legend()\n",
    "plt.title('Call Option Price')\n",
    "plt.show()"
   ]
  },
  {
   "cell_type": "code",
   "execution_count": 32,
   "metadata": {},
   "outputs": [],
   "source": [
    "diff1 = []\n",
    "diff2 = []\n",
    "for i in range(len(call_price)):\n",
    "    d1 = abs(bs_price[i] - call_price[i])\n",
    "    d2 = abs(bs_price[i] - opt_call_price[i])\n",
    "    diff1.append(d1)\n",
    "    diff2.append(d2)"
   ]
  },
  {
   "cell_type": "code",
   "execution_count": 33,
   "metadata": {},
   "outputs": [
    {
     "data": {
      "image/png": "[encoded data removed]",
      "text/plain": [
       "<Figure size 720x720 with 1 Axes>"
      ]
     },
     "metadata": {
      "needs_background": "light"
     },
     "output_type": "display_data"
    }
   ],
   "source": [
    "plt.figure(figsize=(10,10))\n",
    "plt.plot(diff1,'s-',label='initial')\n",
    "plt.plot(diff2,'*-',label='opt')\n",
    "plt.legend()\n",
    "plt.title('price error')\n",
    "plt.show()"
   ]
  }
 ],
 "metadata": {
  "kernelspec": {
   "display_name": "Python 3",
   "language": "python",
   "name": "python3"
  },
  "language_info": {
   "codemirror_mode": {
    "name": "ipython",
    "version": 3
   },
   "file_extension": ".py",
   "mimetype": "text/x-python",
   "name": "python",
   "nbconvert_exporter": "python",
   "pygments_lexer": "ipython3",
   "version": "3.8.5"
  }
 },
 "nbformat": 4,
 "nbformat_minor": 4
}
